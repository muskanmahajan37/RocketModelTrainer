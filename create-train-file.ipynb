{
 "cells": [
  {
   "cell_type": "code",
   "execution_count": 7,
   "metadata": {},
   "outputs": [],
   "source": [
    "import os\n"
   ]
  },
  {
   "cell_type": "code",
   "execution_count": 8,
   "metadata": {},
   "outputs": [],
   "source": [
    "path = \"data/obj/\""
   ]
  },
  {
   "cell_type": "code",
   "execution_count": 10,
   "metadata": {},
   "outputs": [],
   "source": [
    "dataset_train_images_path = r\"C:\\Users\\Helios\\Documents\\GitHub\\HPRTracker2\\OID-Rocket\\Dataset\\train\\Rocket\\images\""
   ]
  },
  {
   "cell_type": "code",
   "execution_count": 11,
   "metadata": {},
   "outputs": [],
   "source": [
    "img_list = os.listdir(dataset_train_images_path)"
   ]
  },
  {
   "cell_type": "code",
   "execution_count": 12,
   "metadata": {},
   "outputs": [
    {
     "name": "stdout",
     "output_type": "stream",
     "text": [
      "['003e6fd2238e91ab.jpg', '0053704554a2ea33.jpg', '008c590d1e575236.jpg', '00e3e8a9ad22f762.jpg', '00e5ff7c65f4da17.jpg', '00e694a5d1bd3654.jpg', '01022ac6a9cc4360.jpg', '013d8d1f02e6c8a0.jpg', '01528ed3aa46e636.jpg', '0199cc2db70d9591.jpg', '01a4be33a9273c12.jpg', '01b89195f905ec9c.jpg', '01c83ee0be4c5022.jpg', '01d0228d6ea4985b.jpg', '01d2e3cdf6db27ea.jpg', '01fc8cf43d6e9276.jpg', '021abfff693b3cc8.jpg', '027d122b234ed5cc.jpg', '0284e3975d0ba688.jpg', '02881fe9a39211a0.jpg', '02b8d35e54b5a718.jpg', '02bcbeb5b46883f4.jpg', '02eb2bced7f8b198.jpg', '02ec2f3da137cbb2.jpg', '030d6abbe85e3dd1.jpg', '033d7a2468a11e35.jpg', '034fc669c0edacdd.jpg', '039d0c3533d14bcc.jpg', '03ac431f45008526.jpg', '03b68b05b6e2f7cf.jpg', '03dac4276af392e5.jpg', '03dac6376acbc33c.jpg', '03fe71bc6c71d0a2.jpg', '0421a6d75a9c2c20.jpg', '042e609efdad6a5b.jpg', '0438cec3b5f0fd23.jpg', '044a25d0b083f6fc.jpg', '0467cfaf0c80a02a.jpg', '046db838aad36810.jpg', '04932a70b526ff12.jpg', '04a6002dff2e8971.jpg', '04d2ee5d59f5470e.jpg', '050097fd1bf40efa.jpg', '05593d7c70b8b55b.jpg', '05a183fef763727e.jpg', '05d091ed3d4304a4.jpg', '05d1e1643b3d33c6.jpg', '05d2908e28e79937.jpg', '05ec893dbc37b450.jpg', '06069f7898a74cd5.jpg', '062b7f2848b86221.jpg', '065d7349b6cc2d8b.jpg', '06a3b1fb2bdbe40e.jpg', '07142bbb5532d2dc.jpg', '076fa5e65495a3b9.jpg', '079775079fe92a51.jpg', '07cad7018cd03bf1.jpg', '07fc06c62a52ebf4.jpg', '086d5f4ea6f61538.jpg', '089449b201122399.jpg', '08c51e3c0433dc7a.jpg', '08ddd7b9612e6a29.jpg', '090dbf2cb34ae08d.jpg', '0937888f7614d47b.jpg', '09b7ce3cba3c909f.jpg', '09d8ce7a64f27b2e.jpg', '0a0721856f45d7a6.jpg', '0a44b9de93c0d31f.jpg', '0a5465a362a84f8d.jpg', '0a6bd371acf2b7be.jpg', '0a783bb3ea2acb76.jpg', '0a9a13fb89716b15.jpg', '0afb4070c7960807.jpg', '0b5e0f888e580305.jpg', '0b8737c3484345dc.jpg', '0baac0a2dbf76acc.jpg', '0bfde743b0958b32.jpg', '0c275c2283644afb.jpg', '0c43ca8f6be15219.jpg', '0c5a3fdf8f8b786d.jpg', '0c7d50e7c83d5fa9.jpg', '0c8f471f1332bbb9.jpg', '0c97b422c83e687b.jpg', '0c98b124813406de.jpg', '0ca308a5397a7eac.jpg', '0cd4a8bdb691a4af.jpg', '0cdccca2ff02a36a.jpg', '0cf1803d76a4dfd1.jpg', '0cf3a808259ea1ca.jpg', '0d210d77d3ff3248.jpg', '0dc691fee9ce21fb.jpg', '0df4d023850c6b8a.jpg', '0e1b43d94243a2d5.jpg', '0e6557b3b8028471.jpg', '0e8760ac94230f43.jpg', '0ef5351820432dea.jpg', '0f2cfe8a7ae975a6.jpg', '0fa8f211ef1ea3f3.jpg', '0fab3bd4e5ebcc33.jpg', '0fd373cc75ae1696.jpg', '100364ef28bba46a.jpg', '1015d0c33db05ba4.jpg', '10584392e7653f07.jpg', '1069f6cc652f0d0e.jpg', '106f5e934f04a2cd.jpg', '108bd14dbc0aaa95.jpg', '10ee11983592432a.jpg', '10f814c2de90f338.jpg', '11085a2c34b1b2ed.jpg', '1131b6a4bd59f8b2.jpg', '11b22708fe9e4bd6.jpg', '1228ce27cec58fd5.jpg', '1260f0431e34ae0b.jpg', '12713a1d0aebf920.jpg', '12769afc68983899.jpg', '12a049e166f7d1b2.jpg', '130241db5dcfdf62.jpg', '131a36d7adb4f717.jpg', '137b66b0881f9221.jpg', '13de05a561416cf9.jpg', '142059f92ba61303.jpg', '142d95be4ba39f05.jpg', '1446707582923d4e.jpg', '1447e353450e2f2a.jpg', '14faf3904b81ffb0.jpg', '14fddccf03621250.jpg', '15234143df4cbb5b.jpg', '153c242aa334223a.jpg', '157dd14a419946f4.jpg', '15b543494c211761.jpg', '15b6791e71eb53f1.jpg', '15c8e8819b41fcf0.jpg', '15d24b9fa6999d01.jpg', '1646187f1bb46a87.jpg', '167ac433e4bc6aa3.jpg', '1722085b87cef0b1.jpg', '1770fad3b37cb372.jpg', '17907c52ab5c8275.jpg', '17a0f21508733380.jpg', '17b51555d1d0a2c7.jpg', '17d6069436e926bc.jpg', '17f55a9adb637a2a.jpg', '17fd16fb5dd38b46.jpg', '180b89b23790046e.jpg', '1815d16a382b3e87.jpg', '18288fc1ed29765b.jpg', '183f98215b9886d2.jpg', '18c06775f7067f86.jpg', '18cfd3cf60f38bca.jpg', '18f5d611ed6602b6.jpg', '190823669c27cfb3.jpg', '19d2c492c44e9bb5.jpg', '1a2317716a8d59db.jpg', '1aec7a1774484033.jpg', '1b339f48bded9d56.jpg', '1b948421347eae45.jpg', '1ba0a8f5226cf816.jpg', '1bc6d87b60c1f6af.jpg', '1bd977c0e9f857f8.jpg', '1be2d0413919a90e.jpg', '1bedaa5076061901.jpg', '1c215ebeef31a922.jpg', '1c4a02407d136738.jpg', '1c8394a4aac3d6df.jpg', '1cc46d6cd3d275d4.jpg', '1cd01f8c179c076f.jpg', '1cd74e4caa8475ab.jpg', '1cfd32a632fa0771.jpg', '1d1f56311531c9e5.jpg', '1d4d61fdc53f404e.jpg', '1e2531eb84b63d36.jpg', '1e356e04f99e33c9.jpg', '1e51ac43dec9838c.jpg', '1e9105a34e0d411f.jpg', '1ea58928137b74a3.jpg', '1ed6b83b168a8f6e.jpg', '1ef7488cda01d09c.jpg', '1f8d4c050b53358b.jpg', '1f9f6aa5953dbb49.jpg', '1fae484d26a1690d.jpg', '1fddba2ad70d2edd.jpg', '1ff623c43ec7e4c6.jpg', '2019a47c5deb7fb4.jpg', '202a56b21487ede4.jpg', '206d4fb297bb56b1.jpg', '20ae9ec44c37fbb8.jpg', '20fb43c6045f04f1.jpg', '2135c95a75c962af.jpg', '214bbb713114602a.jpg', '21938a1c58372a4d.jpg', '219809d0c566f1c2.jpg', '21d4d8bf284b7745.jpg', '220ebb384932b606.jpg', '22455328fc1a711d.jpg', '2246782667a44bab.jpg', '224bd4e3a44b73bc.jpg', '227f59689859e11c.jpg', '22b9e7de1522359f.jpg', '24aebe160a69896d.jpg', '24f96142713fe28c.jpg', '2518744168921cfc.jpg', '2596c9892f2807b9.jpg', '2624dd287c1b3a1b.jpg', '26281e8fb2b32268.jpg', '26d1f1edceea27b6.jpg', '26d8330cf4b9baa6.jpg', '26f3b10c58465baf.jpg', '26f5b870e3b836f4.jpg', '27bae3637db97e01.jpg', '27dbe3407fde1b1e.jpg', '282b94db5c3b08cb.jpg', '283f20f6c252c57e.jpg', '2845f3e4f33cbf73.jpg', '2851256fb84cf801.jpg', '28934a72a1af3bf7.jpg', '28b99d1063eba239.jpg', '28f57e6aea47aa3a.jpg', '298c2a32f4953ed4.jpg', '29a089001b25fb71.jpg', '29bd0b37b50e65da.jpg', '29c0cd819e327997.jpg', '2a3dc62b77aefa76.jpg', '2a694b012e4bad85.jpg', '2ae59d87a2670397.jpg', '2b31d43d60396e83.jpg', '2b4ac12ac83933b6.jpg', '2b51d6c6732d8fc7.jpg', '2bb2ec99cfdcc763.jpg', '2bbfb8b34f76f702.jpg', '2bdaa8593ea002c4.jpg', '2bfdb955e03c3e93.jpg', '2c22e8c3fcc02ae5.jpg', '2c25c8a3de85bfb5.jpg', '2c9c0911a3c517c5.jpg', '2cc07d31154b783f.jpg', '2d59da7533d737f1.jpg', '2dc6d99daf424a20.jpg', '2de5b236e1ace162.jpg', '2df0544a8fe1cacf.jpg', '2ea67a78b99d8280.jpg', '2ee73e7d473e35ad.jpg', '2f3c0432f1476bb8.jpg', '2f7a63c4362fa81b.jpg', '2f84f95c22b07a72.jpg', '2fbfbaeefaacefd5.jpg', '2fd0ee78935e3bd5.jpg', '2fe6b2af6b7a9a09.jpg', '304c7aeedf6ae92a.jpg', '31429729133394d7.jpg', '31bfe96b08763399.jpg', '31cce1f272853bab.jpg', '31e07f9fc8e84e87.jpg', '324f21a659cb7a17.jpg', '32528524767d5911.jpg', '325461de21f3fa96.jpg', '33545decd0895cb3.jpg', '33fd4bb8421820fe.jpg', '341b7700ca0e2d1c.jpg', '34208b21ccb7947a.jpg', '345d74a3c0ba0a34.jpg', '346694b7e9ca205b.jpg', '34a9b0f9660ec38b.jpg', '34e3d8a4441f93d0.jpg', '3501037bab614104.jpg', '3560b167bc49a30f.jpg', '356599e7ec458d13.jpg', '35aca2e07e1f3ca2.jpg', '35edeb4d31703350.jpg', '3638f6b54f6549a6.jpg', '3654c079ffc48986.jpg', '366540f926c55ced.jpg', '372ba60bb5a2a855.jpg', '373d7753bb760a29.jpg', '37fc81705644e281.jpg', '38448fce3cf20d40.jpg', '38df7bc066642328.jpg', '3971390c1643348b.jpg', '39e52637631bcb4a.jpg', '3a4958d9004a2e31.jpg', '3a70adc3461753da.jpg', '3b2f2be60215f924.jpg', '3b3e8621f2730f38.jpg', '3baa941a5792e274.jpg', '3bd43863d36617fe.jpg', '3c66e1dfd3bd4366.jpg', '3d26977bddb7ce67.jpg', '3d72aa32bcc4ed87.jpg', '3da0d10bf65210f3.jpg', '3dca7916478e20d6.jpg', '3ec6c8bdcf04607e.jpg', '3f0f2265dd90321e.jpg', '3f6bbb73511f5e4e.jpg', '3fdc38d84b1a29b0.jpg', '4040b7608fa8b16a.jpg', '404da48c8a5f4ae7.jpg', '4076142fae7273a9.jpg', '40c607806933ef53.jpg', '41533fc770450a11.jpg', '415f1b7c36caa919.jpg', '417f6375303aaf60.jpg', '41b7406dd5223a8e.jpg', '4210d1fe7d82c7bb.jpg', '4228842a178749a0.jpg', '42c077b285a95ff3.jpg', '436d3204b21514ce.jpg', '43f4a6d9ca120eae.jpg', '44278dea4c784fb1.jpg', '4449fa2b33d75313.jpg', '4489ba6c734c6ee3.jpg', '44c5a95af4982172.jpg', '44db2af5b40cf470.jpg', '44f90a1cce49400a.jpg', '452538f9538766cf.jpg', '45c1a9d03482f94e.jpg', '469f1228b6d07146.jpg', '46ab2a54ad7ea0c8.jpg', '4744398b6262fa44.jpg', '476ef053d47b2607.jpg', '477ae2b13d5c216e.jpg', '4785a590b1fdc8bb.jpg', '478888f1db273833.jpg', '47a8137d34244424.jpg', '47e0868540d2e106.jpg', '47efd8d659b6e9e0.jpg', '488273ccc9820d86.jpg', '48ad6667fde26da5.jpg', '48f58cea64a49baf.jpg', '49221b1ea80e35f3.jpg', '497161544f8baf12.jpg', '49a9745555e93b48.jpg', '49ef9af5e0553fc2.jpg', '4a4902b9072bd877.jpg', '4a6b2c9b0e4ad972.jpg', '4aa968121c75ac58.jpg', '4ab12397337ebd2f.jpg', '4ac84f5fecba4cb8.jpg', '4ad7932840ff22f2.jpg', '4adcb03df6326c71.jpg', '4b0a1d3315819ceb.jpg', '4cc6448b7d44d33e.jpg', '4d01ee8dd964bfa2.jpg', '4d86178cfc5dcc5c.jpg', '4d9c4bbb37ebc3a8.jpg', '4eb47c1f51b719b6.jpg', '4fab97a81269747e.jpg', '4fafd0fbdf87010f.jpg', '4fd54ef8fedd37cf.jpg', '50c0aff4c07fd3ff.jpg', '50d357af323968f1.jpg', '51e484720b78744b.jpg', '525a41d7b4915692.jpg', '52d530255a988560.jpg', '53444778c3f9da74.jpg', '535a711ee712f769.jpg', '53978834600631bc.jpg', '53f25f99ea866344.jpg', '54611531c56d36c7.jpg', '54c0aa72f754cf10.jpg', '55afcaed8a4acec2.jpg', '560a5b05f944f9cf.jpg', '560aa227180d4403.jpg', '568e97cf9d1c2020.jpg', '56a935c0ce24e09d.jpg', '56ced9b6fccd9d35.jpg', '57aab753107fda26.jpg', '589a74f130eda215.jpg', '58d05e0d68133d8e.jpg', '594ad6034b83c7ae.jpg', '596d2e35e8882c69.jpg', '599b9b4afefd411f.jpg', '5a851866df9b5945.jpg', '5abd2b8459837e5f.jpg', '5aea1409507fb525.jpg', '5b7331c94609545a.jpg', '5b87f680ad68ce55.jpg', '5ba519e19d9c55b5.jpg', '5c554be72f9b7e58.jpg', '5cc2e72db0c25c7f.jpg', '5d19d7ddcdfac8a2.jpg', '5de7ab26830e80a2.jpg', '5e1f421d04106bbd.jpg', '5eab4e537f0696a4.jpg', '5f4ab7a887e8367b.jpg', '5f4fd9e5503317bf.jpg', '5f97e5cb12dda80c.jpg', '6129a9845cc5f420.jpg', '6163c066d920e0b5.jpg', '61f24a600b42b5d3.jpg', '6263643f56fc4f71.jpg', '628de666bfc75d13.jpg', '63c6108109827e0e.jpg', '63ffca8b626aad50.jpg', '6528d55b59da9cdc.jpg', '65758a984b1b2e2a.jpg', '65ab2ab3a64189b7.jpg', '65c9077ae4c2d912.jpg', '65f8386525acc5f0.jpg', '670e5f6d5a49c05b.jpg', '678c75990dd1da66.jpg', '67b7b8f1ab319b27.jpg', '67c69893311cdb34.jpg', '682b567d31866b32.jpg', '687050b692ffedb1.jpg', '6932e348c1569a7a.jpg', '697070b6444593c6.jpg', '698616e9d8a7c142.jpg', '6aca92f6a19f44fe.jpg', '6c6d5e034138381c.jpg', '6c88d838810fd93b.jpg', '6cfc8375e1f34cd5.jpg', '6d314fe4ae5ac683.jpg', '6d3ff586b9b60c98.jpg', '6dab04e8d62fc9d4.jpg', '6e06cf2611e0caed.jpg', '6e6c6931a124b06f.jpg', '6e785561928ed7dc.jpg', '6f9977428834e089.jpg', '6faecce39e080dbd.jpg', '701d4cdaf6a8841d.jpg', '727d0f2eed3136b2.jpg', '72d1bc2ca95f771f.jpg', '7339d9cdb087abf6.jpg', '736be6f3e4e290bb.jpg', '73be6f3dc2f92e26.jpg', '73f39cc6160b69f4.jpg', '7405b814e7f2f727.jpg', '748670355a073bfb.jpg', '74c3e9022b0186dc.jpg', '7660e7a0fc200c5d.jpg', '77421fb53fa12569.jpg', '79e3c9140ec41558.jpg', '79e4961693da4d08.jpg', '7a30fe22ea2ebe8f.jpg', '7a41fa2183a3b83a.jpg', '7a7486554ded83aa.jpg', '7ac7cf646c463b71.jpg', '7c729dbecaafff10.jpg', '7d1011564f7e813a.jpg', '7d6cee9f0c1f370e.jpg', '7e7a890d3295fe62.jpg', '7e9a7357aa0530c6.jpg', '7ed74846e9ffd705.jpg', '7f34c87577d048f4.jpg', '7f45cb2af8edd00a.jpg', '7f9a0f0e802cc636.jpg', '800037b0465c8068.jpg', '8088bbffab49f83b.jpg', '80f8da01a2508690.jpg', '80fd124a836a7f17.jpg', '814664a739405341.jpg', '819e5a1a00e7862a.jpg', '81edc5391a3d5cb6.jpg', '82d354f80898edf0.jpg', '838f79cb117d3369.jpg', '84088fee850a6470.jpg', '85c1b913502df40e.jpg', '861988f3fe687e6b.jpg', '862026faa8310236.jpg', '8686aeb306fe6e55.jpg', '86a288929c0b5869.jpg', '874c398b03a5e8b9.jpg', '87b087ff1bf85aea.jpg', '883de453da0281e2.jpg', '88def116e1b1dd8a.jpg', '8a8935753d6eca0b.jpg', '8aa980486e51a414.jpg', '8b24fcadeb8335fa.jpg', '8b2a372f462b68f1.jpg', '8dbe577f7fee5648.jpg', '8e40ccad8b709471.jpg', '8e5a162700f86ee8.jpg', '8ea1f6048a5cce0b.jpg', '8eb2c6146f2e59ee.jpg', '8f356490bf4edd16.jpg', '90658c1e6b057ed8.jpg', '9194827afb34a306.jpg', '919e1d5c4b71a9c3.jpg', '927081bbdd7d09db.jpg', '934be85b5923a876.jpg', '9372d7c0b3c84481.jpg', '9458de03190c1d60.jpg', '9627d0a0c1f079e3.jpg', '97ad238cfea79f7a.jpg', '9a36524ba76901d5.jpg', '9c2a3a4f8582c517.jpg', '9d247c62799a3b25.jpg', '9dca268acc7427f1.jpg', '9e065dcb43d341a4.jpg', '9e16daea63158287.jpg', '9e4a510d0f38fe27.jpg', '9e58b8c37d7d51e7.jpg', 'a02a3d13b9eaf466.jpg', 'a02c490356e95418.jpg', 'a0ff83ea74abfae6.jpg', 'a296846f884eff56.jpg', 'a329b539bd9a2a5a.jpg', 'a4368086b1fa0898.jpg', 'a4f68a81e2642f06.jpg', 'a6ba6b645e5a8ea2.jpg', 'a6c3dae1394e5fa6.jpg', 'a6d23785c7ccd105.jpg', 'a6ef9f4a61dfa561.jpg', 'a7acd5012890500e.jpg', 'a91dc0efc0710361.jpg', 'a981146520be3206.jpg', 'aa88d777f870fa54.jpg', 'aa93af563085d081.jpg', 'abca9006e91f7527.jpg', 'abce1ddb32ff1f7e.jpg', 'af579019a0b9addd.jpg', 'b0077a0ea4a6a228.jpg', 'b0a3a057462ba6db.jpg', 'b0e016913c1b3550.jpg', 'b25f47e80908da5a.jpg', 'b27fc9585d7d3867.jpg', 'b32b2bdb3bdb86fd.jpg', 'b52132bf7a6b1e45.jpg', 'b5cd7b9a66cee84e.jpg', 'b60157a87792faf9.jpg', 'b61f0673d388b770.jpg', 'b80ddb8a209783ae.jpg', 'b8315216e8a58661.jpg', 'b865d2d39034422e.jpg', 'b8b17e8360ad25c4.jpg', 'b93846973efec9a3.jpg', 'ba38354890bd0638.jpg', 'bae578b36faa1641.jpg', 'bb188a134992f395.jpg', 'bc1cf7b44f15fa42.jpg', 'bc7585dbd9522838.jpg', 'bce894a485b6d481.jpg', 'be26479cd7b4220f.jpg', 'bfb7c29eb05e9059.jpg', 'c05fe073cd6bf828.jpg', 'c07a5edc482ddf67.jpg', 'c0c7bb3849ec9a2f.jpg', 'c11220da15bf2ce4.jpg', 'c176c1a473473355.jpg', 'c1c9c65d0e628c85.jpg', 'c1deca188b60dacf.jpg', 'c2658c3f11ffd6a4.jpg', 'c29188effc53f78d.jpg', 'c2ab30e3598fa7cd.jpg', 'c2c1c66d78baa10c.jpg', 'c2ce484d80dd75ca.jpg', 'c2f763df8525681d.jpg', 'c3066d2ddf24635e.jpg', 'c39001a879569810.jpg', 'c50670d1e24d9872.jpg', 'c54c842c8e60001f.jpg', 'c563ed7e61fb8c97.jpg', 'c85c3274a179fd99.jpg', 'c935fb84fe2bb373.jpg', 'ca81fba9287fb7c1.jpg', 'cae8397ef65ac9b3.jpg', 'cc8adf2f47c936b2.jpg', 'cd4de1eb5659754a.jpg', 'cd812630cbc63c6b.jpg', 'cdd2422cdedabcee.jpg', 'ce076bbc0c671300.jpg', 'ce4632566afcae91.jpg', 'ce72150e6383de8f.jpg', 'd1a9d7afe3834c18.jpg', 'd1f349e00e549f94.jpg', 'd2093a096edc7461.jpg', 'd2d9fe00a8befcd4.jpg', 'd2e9eb906b5940de.jpg', 'd2f26edf9b5c8562.jpg', 'd3664bc3c2843853.jpg', 'd414ecbfca5893b1.jpg', 'd4a337b18087872b.jpg', 'd51fcf10dfba2dca.jpg', 'd707673842f719d9.jpg', 'd81b2ceb1a5d9221.jpg', 'd8fcc3b57b42cc3b.jpg', 'daf031cc0253908f.jpg', 'db0912850dc812ac.jpg', 'db7e710c121416a1.jpg', 'dbfdcdd3f4bae007.jpg', 'dc7d39b312ad8080.jpg', 'dcce8b893ca1aeb4.jpg', 'de424f65ee80ae12.jpg', 'de98203db479d0f0.jpg', 'dfe986c527e628ba.jpg', 'dffecd24df9fb862.jpg', 'dffef712f56475b8.jpg', 'e0f6010671737c24.jpg', 'e146ab282703e29e.jpg', 'e1a1668e7d766253.jpg', 'e3815578a537b845.jpg', 'e52a57c63c8cad95.jpg', 'e55b0cc031dc4b84.jpg', 'e56a8348a2596b77.jpg', 'e5bdb8194c7d2ff8.jpg', 'e5c3864207b4319c.jpg', 'e5e53f70b57bd4ac.jpg', 'e721b27d24390073.jpg', 'e75185a100f156fe.jpg', 'e7d321f4fe299379.jpg', 'e849b1850c17dc4c.jpg', 'e918766652014bbf.jpg', 'e91a0ce3288ca09b.jpg', 'e9b4ec4c0c5a0496.jpg', 'ea251763244dde4a.jpg', 'eb4e448085e9d4d0.jpg', 'ebd2cfeeb766e5bb.jpg', 'ec893be65e5625ac.jpg', 'eca14ab532fd0b78.jpg', 'ed74ce054b220077.jpg', 'ef70b59981b18a47.jpg', 'ef8f6c3bac986357.jpg', 'f0063b296dabd2c0.jpg', 'f036baafd80b9cca.jpg', 'f0c4ccba9b981d15.jpg', 'f1178d68ef2f8e27.jpg', 'f20a6b1e60fc7de3.jpg', 'f33d9d6e5656a577.jpg', 'f369a8b0a0f11884.jpg', 'f388b4ff43c9917d.jpg', 'f3d54d67cd1167ee.jpg', 'f3efe82a26c983e3.jpg', 'f44230945742adf2.jpg', 'f5d6a5c8a2437372.jpg', 'f66a3cde06da96fa.jpg', 'f67d7194f43e19a5.jpg', 'f8151345f5ef3cc0.jpg', 'f945fab13e09c535.jpg', 'f973b88142b2afa6.jpg', 'f9e5d9b5fbc4a56b.jpg', 'f9e99e1f48818445.jpg', 'fc3f7704b34d495a.jpg', 'fcaf26c8fe8725b6.jpg', 'fd33b0ac849ef0e4.jpg', 'fd3dc959f5fbcbd2.jpg', 'fd3f2d2493bc3068.jpg', 'fd87af969da7d0b3.jpg', 'fea127a79174eb6c.jpg', 'fed1d3664469764e.jpg']\n"
     ]
    }
   ],
   "source": [
    "print(img_list)"
   ]
  },
  {
   "cell_type": "code",
   "execution_count": 13,
   "metadata": {},
   "outputs": [],
   "source": [
    "\n",
    "with open('train.txt', 'w') as f:\n",
    "    for img in img_list:\n",
    "        img_path = path + img + '\\n'\n",
    "        f.write(img_path)\n"
   ]
  },
  {
   "cell_type": "code",
   "execution_count": null,
   "metadata": {},
   "outputs": [],
   "source": []
  }
 ],
 "metadata": {
  "kernelspec": {
   "display_name": "Python 3",
   "language": "python",
   "name": "python3"
  },
  "language_info": {
   "codemirror_mode": {
    "name": "ipython",
    "version": 3
   },
   "file_extension": ".py",
   "mimetype": "text/x-python",
   "name": "python",
   "nbconvert_exporter": "python",
   "pygments_lexer": "ipython3",
   "version": "3.8.1"
  }
 },
 "nbformat": 4,
 "nbformat_minor": 4
}
